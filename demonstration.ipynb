{
 "cells": [
  {
   "cell_type": "markdown",
   "metadata": {},
   "source": [
    "# Evaluation of Different Embeddings"
   ]
  },
  {
   "cell_type": "markdown",
   "metadata": {},
   "source": [
    "This notebook demonstrates the evaluation of embeddings achieved by Wasserstein and Kullback-Leibler divergence. The evaluations have 2 parts:\n",
    "\n",
    "- Spearman rank correlation score on several human-annotated datasets, such as WordSim-353, etc.\n",
    "- Visualization of Wasserstein `word2cloud`"
   ]
  },
  {
   "cell_type": "markdown",
   "metadata": {},
   "source": [
    "# Word Similarity Bencmark"
   ]
  },
  {
   "cell_type": "markdown",
   "metadata": {},
   "source": [
    "## Load packages and data"
   ]
  },
  {
   "cell_type": "code",
   "execution_count": 1,
   "metadata": {},
   "outputs": [],
   "source": [
    "import pickle\n",
    "\n",
    "import numpy as np\n",
    "import pandas as pd"
   ]
  },
  {
   "cell_type": "code",
   "execution_count": 2,
   "metadata": {},
   "outputs": [],
   "source": [
    "from utils import *\n",
    "from kl_net import *\n",
    "from wass_net import *"
   ]
  },
  {
   "cell_type": "code",
   "execution_count": 3,
   "metadata": {},
   "outputs": [],
   "source": [
    "def read_ground_truth(file):\n",
    "    \"\"\" Reads word pairs and human-annotated similarities from local files.\n",
    "    \"\"\"\n",
    "    ground_truth = pd.read_csv(file)\n",
    "    word_pairs = list(zip(ground_truth['Word 1'], ground_truth['Word 2']))\n",
    "    sim = list(ground_truth['Human (mean)'].values)\n",
    "\n",
    "    return word_pairs, sim\n",
    "\n",
    "def spearman_rank_correlation(true_sim, pred_sim):\n",
    "    \"\"\" Computes the Spearman rank correlaion.\n",
    "    \"\"\"\n",
    "    assert true_sim.shape[0] == pred_sim.shape[0], 'number of true similarity ({}) not equal to number of predicted similarity ({})!'.format(true_sim.shape[0], pred_sim.shape[0])\n",
    "    n = true_sim.shape[0]\n",
    "\n",
    "    true_rank_idx = np.argsort(true_sim)[::-1]\n",
    "    true_rank = np.arange(true_sim.shape[0])\n",
    "    true_rank[true_rank_idx] = np.arange(true_sim.shape[0])\n",
    "\n",
    "    pred_rank_idx = np.argsort(pred_sim)\n",
    "    pred_rank = np.arange(pred_sim.shape[0])\n",
    "    pred_rank[pred_rank_idx] = np.arange(pred_sim.shape[0])\n",
    "\n",
    "    r = 1 - 6 * np.sum((true_rank - pred_rank) ** 2) / (n * (n*n - 1))\n",
    "    return r"
   ]
  },
  {
   "cell_type": "markdown",
   "metadata": {},
   "source": [
    "load vocabulary list and vocab2id dictionary"
   ]
  },
  {
   "cell_type": "code",
   "execution_count": 4,
   "metadata": {},
   "outputs": [],
   "source": [
    "with open('./data/vocab2id.pkl', 'rb') as infile:\n",
    "    vocab2id = pickle.load(infile)\n",
    "with open('./data/vocab.pkl', 'rb') as infile:\n",
    "    vocab = pickle.load(infile)"
   ]
  },
  {
   "cell_type": "markdown",
   "metadata": {},
   "source": [
    "load annotated datasets"
   ]
  },
  {
   "cell_type": "code",
   "execution_count": 5,
   "metadata": {},
   "outputs": [],
   "source": [
    "datasets = ['RG-65', 'WS-353', 'MC-30', 'Rare-Word', 'MEN', 'MTurk-287', 'SimLex-999']"
   ]
  },
  {
   "cell_type": "code",
   "execution_count": 6,
   "metadata": {},
   "outputs": [],
   "source": [
    "rg_word_pairs, rg_sim = read_ground_truth('./benchmark/RG-65.csv')\n",
    "ws_word_pairs, ws_sim = read_ground_truth('./benchmark/wordsim353.csv')\n",
    "mc_word_pairs, mc_sim = read_ground_truth('./benchmark/MC.csv')\n",
    "rw_word_pairs, rw_sim = read_ground_truth('./benchmark/RW.csv')\n",
    "men_word_pairs, men_sim = read_ground_truth('./benchmark/MEN-LEM.csv')\n",
    "turk_word_pairs, turn_sim = read_ground_truth('./benchmark/TRUK.csv')\n",
    "lex_word_pairs, lex_sim = read_ground_truth('./benchmark/SIM999.csv')\n",
    "\n",
    "word_pairs = [rg_word_pairs, ws_word_pairs, mc_word_pairs, rw_word_pairs, men_word_pairs, turk_word_pairs, lex_word_pairs]\n",
    "similarities = [rg_sim, ws_sim, mc_sim, rw_sim, men_sim, turn_sim, lex_sim]"
   ]
  },
  {
   "cell_type": "markdown",
   "metadata": {},
   "source": [
    "## Wasserstien-$\\mathbb{R}^4$-16"
   ]
  },
  {
   "cell_type": "markdown",
   "metadata": {},
   "source": [
    "load trained embedding"
   ]
  },
  {
   "cell_type": "code",
   "execution_count": 7,
   "metadata": {},
   "outputs": [],
   "source": [
    "embeddings = np.load('./results/WikiSmall_WassR4_16_batch.npz')['embeddings']\n",
    "embed_dim = 16\n",
    "ground_dim = 4"
   ]
  },
  {
   "cell_type": "markdown",
   "metadata": {},
   "source": [
    "compute Spearman scores on different datasets"
   ]
  },
  {
   "cell_type": "code",
   "execution_count": 8,
   "metadata": {},
   "outputs": [],
   "source": [
    "results = pd.DataFrame(index=datasets, columns=['# word pairs', '# recognized pairs', 'Spearman Correlation'])"
   ]
  },
  {
   "cell_type": "code",
   "execution_count": 9,
   "metadata": {},
   "outputs": [
    {
     "name": "stdout",
     "output_type": "stream",
     "text": [
      "Dataset: RG-65\n",
      "Dataset: WS-353\n",
      "Dataset: MC-30\n",
      "Dataset: Rare-Word\n",
      "Dataset: MEN\n",
      "Dataset: MTurk-287\n",
      "Dataset: SimLex-999\n"
     ]
    }
   ],
   "source": [
    "for wp, sims, name in zip(word_pairs, similarities, datasets):\n",
    "    print(\"Dataset: {}\".format(name))\n",
    "    n_wps = len(wp)\n",
    "    recognized = [[vocab2id.get(w1), vocab2id.get(w2), sim] for (w1, w2), sim in zip(wp, sims)]\n",
    "    recognized = [[w1, w2, sim] for w1, w2, sim in recognized if w1 is not None and w2 is not None]\n",
    "    n_recognized = len(recognized)\n",
    "    recog_wp = np.array([[w1, w2] for w1, w2, _ in recognized])\n",
    "    true_sim = np.array([sim for _, _, sim in recognized])\n",
    "    pred_sim = predict_wass(recog_wp, embeddings, dim=embed_dim, ground_dim=ground_dim, lambd=0.5)\n",
    "    score = spearman_rank_correlation(true_sim, pred_sim)\n",
    "    results.loc[name, :] = [n_wps, n_recognized, score]"
   ]
  },
  {
   "cell_type": "code",
   "execution_count": 10,
   "metadata": {},
   "outputs": [
    {
     "data": {
      "text/html": [
       "<div>\n",
       "<style scoped>\n",
       "    .dataframe tbody tr th:only-of-type {\n",
       "        vertical-align: middle;\n",
       "    }\n",
       "\n",
       "    .dataframe tbody tr th {\n",
       "        vertical-align: top;\n",
       "    }\n",
       "\n",
       "    .dataframe thead th {\n",
       "        text-align: right;\n",
       "    }\n",
       "</style>\n",
       "<table border=\"1\" class=\"dataframe\">\n",
       "  <thead>\n",
       "    <tr style=\"text-align: right;\">\n",
       "      <th></th>\n",
       "      <th># word pairs</th>\n",
       "      <th># recognized pairs</th>\n",
       "      <th>Spearman Correlation</th>\n",
       "    </tr>\n",
       "  </thead>\n",
       "  <tbody>\n",
       "    <tr>\n",
       "      <th>RG-65</th>\n",
       "      <td>65</td>\n",
       "      <td>16</td>\n",
       "      <td>-0.217647</td>\n",
       "    </tr>\n",
       "    <tr>\n",
       "      <th>WS-353</th>\n",
       "      <td>353</td>\n",
       "      <td>225</td>\n",
       "      <td>-0.0886884</td>\n",
       "    </tr>\n",
       "    <tr>\n",
       "      <th>MC-30</th>\n",
       "      <td>30</td>\n",
       "      <td>11</td>\n",
       "      <td>-0.290909</td>\n",
       "    </tr>\n",
       "    <tr>\n",
       "      <th>Rare-Word</th>\n",
       "      <td>2034</td>\n",
       "      <td>72</td>\n",
       "      <td>0.185671</td>\n",
       "    </tr>\n",
       "    <tr>\n",
       "      <th>MEN</th>\n",
       "      <td>3000</td>\n",
       "      <td>1144</td>\n",
       "      <td>-0.000709913</td>\n",
       "    </tr>\n",
       "    <tr>\n",
       "      <th>MTurk-287</th>\n",
       "      <td>287</td>\n",
       "      <td>103</td>\n",
       "      <td>-0.183532</td>\n",
       "    </tr>\n",
       "    <tr>\n",
       "      <th>SimLex-999</th>\n",
       "      <td>999</td>\n",
       "      <td>478</td>\n",
       "      <td>-0.0060289</td>\n",
       "    </tr>\n",
       "  </tbody>\n",
       "</table>\n",
       "</div>"
      ],
      "text/plain": [
       "           # word pairs # recognized pairs Spearman Correlation\n",
       "RG-65                65                 16            -0.217647\n",
       "WS-353              353                225           -0.0886884\n",
       "MC-30                30                 11            -0.290909\n",
       "Rare-Word          2034                 72             0.185671\n",
       "MEN                3000               1144         -0.000709913\n",
       "MTurk-287           287                103            -0.183532\n",
       "SimLex-999          999                478           -0.0060289"
      ]
     },
     "execution_count": 10,
     "metadata": {},
     "output_type": "execute_result"
    }
   ],
   "source": [
    "results"
   ]
  },
  {
   "cell_type": "markdown",
   "metadata": {},
   "source": [
    "## Wasserstien-$\\mathbb{R}^2$-32"
   ]
  },
  {
   "cell_type": "markdown",
   "metadata": {},
   "source": [
    "load trained embedding"
   ]
  },
  {
   "cell_type": "code",
   "execution_count": 11,
   "metadata": {},
   "outputs": [],
   "source": [
    "embeddings = np.load('./results/WikiSmall_WassR2_32_batch.npz')['embeddings']\n",
    "embed_dim = 32\n",
    "ground_dim = 2"
   ]
  },
  {
   "cell_type": "markdown",
   "metadata": {},
   "source": [
    "compute Spearman scores on different datasets"
   ]
  },
  {
   "cell_type": "code",
   "execution_count": 12,
   "metadata": {},
   "outputs": [],
   "source": [
    "results = pd.DataFrame(index=datasets, columns=['# word pairs', '# recognized pairs', 'Spearman Correlation'])"
   ]
  },
  {
   "cell_type": "code",
   "execution_count": 13,
   "metadata": {},
   "outputs": [
    {
     "name": "stdout",
     "output_type": "stream",
     "text": [
      "Dataset: RG-65\n",
      "Dataset: WS-353\n",
      "Dataset: MC-30\n",
      "Dataset: Rare-Word\n",
      "Dataset: MEN\n",
      "Dataset: MTurk-287\n",
      "Dataset: SimLex-999\n"
     ]
    }
   ],
   "source": [
    "for wp, sims, name in zip(word_pairs, similarities, datasets):\n",
    "    print(\"Dataset: {}\".format(name))\n",
    "    n_wps = len(wp)\n",
    "    recognized = [[vocab2id.get(w1), vocab2id.get(w2), sim] for (w1, w2), sim in zip(wp, sims)]\n",
    "    recognized = [[w1, w2, sim] for w1, w2, sim in recognized if w1 is not None and w2 is not None]\n",
    "    n_recognized = len(recognized)\n",
    "    recog_wp = np.array([[w1, w2] for w1, w2, _ in recognized])\n",
    "    true_sim = np.array([sim for _, _, sim in recognized])\n",
    "    pred_sim = predict_wass(recog_wp, embeddings, dim=embed_dim, ground_dim=ground_dim, lambd=0.5)\n",
    "    score = spearman_rank_correlation(true_sim, pred_sim)\n",
    "    results.loc[name, :] = [n_wps, n_recognized, score]"
   ]
  },
  {
   "cell_type": "code",
   "execution_count": 14,
   "metadata": {},
   "outputs": [
    {
     "data": {
      "text/html": [
       "<div>\n",
       "<style scoped>\n",
       "    .dataframe tbody tr th:only-of-type {\n",
       "        vertical-align: middle;\n",
       "    }\n",
       "\n",
       "    .dataframe tbody tr th {\n",
       "        vertical-align: top;\n",
       "    }\n",
       "\n",
       "    .dataframe thead th {\n",
       "        text-align: right;\n",
       "    }\n",
       "</style>\n",
       "<table border=\"1\" class=\"dataframe\">\n",
       "  <thead>\n",
       "    <tr style=\"text-align: right;\">\n",
       "      <th></th>\n",
       "      <th># word pairs</th>\n",
       "      <th># recognized pairs</th>\n",
       "      <th>Spearman Correlation</th>\n",
       "    </tr>\n",
       "  </thead>\n",
       "  <tbody>\n",
       "    <tr>\n",
       "      <th>RG-65</th>\n",
       "      <td>65</td>\n",
       "      <td>16</td>\n",
       "      <td>0.447059</td>\n",
       "    </tr>\n",
       "    <tr>\n",
       "      <th>WS-353</th>\n",
       "      <td>353</td>\n",
       "      <td>225</td>\n",
       "      <td>0.279336</td>\n",
       "    </tr>\n",
       "    <tr>\n",
       "      <th>MC-30</th>\n",
       "      <td>30</td>\n",
       "      <td>11</td>\n",
       "      <td>0.227273</td>\n",
       "    </tr>\n",
       "    <tr>\n",
       "      <th>Rare-Word</th>\n",
       "      <td>2034</td>\n",
       "      <td>72</td>\n",
       "      <td>-0.00784616</td>\n",
       "    </tr>\n",
       "    <tr>\n",
       "      <th>MEN</th>\n",
       "      <td>3000</td>\n",
       "      <td>1144</td>\n",
       "      <td>0.290682</td>\n",
       "    </tr>\n",
       "    <tr>\n",
       "      <th>MTurk-287</th>\n",
       "      <td>287</td>\n",
       "      <td>103</td>\n",
       "      <td>0.24654</td>\n",
       "    </tr>\n",
       "    <tr>\n",
       "      <th>SimLex-999</th>\n",
       "      <td>999</td>\n",
       "      <td>478</td>\n",
       "      <td>0.12247</td>\n",
       "    </tr>\n",
       "  </tbody>\n",
       "</table>\n",
       "</div>"
      ],
      "text/plain": [
       "           # word pairs # recognized pairs Spearman Correlation\n",
       "RG-65                65                 16             0.447059\n",
       "WS-353              353                225             0.279336\n",
       "MC-30                30                 11             0.227273\n",
       "Rare-Word          2034                 72          -0.00784616\n",
       "MEN                3000               1144             0.290682\n",
       "MTurk-287           287                103              0.24654\n",
       "SimLex-999          999                478              0.12247"
      ]
     },
     "execution_count": 14,
     "metadata": {},
     "output_type": "execute_result"
    }
   ],
   "source": [
    "results"
   ]
  },
  {
   "cell_type": "markdown",
   "metadata": {},
   "source": [
    "## KL-32"
   ]
  },
  {
   "cell_type": "markdown",
   "metadata": {},
   "source": [
    "load trained embedding"
   ]
  },
  {
   "cell_type": "code",
   "execution_count": 15,
   "metadata": {},
   "outputs": [],
   "source": [
    "embeddings = np.load('./results/WikiSmall_KL_32_batch.npz')['embeddings']\n",
    "embed_dim = 32"
   ]
  },
  {
   "cell_type": "markdown",
   "metadata": {},
   "source": [
    "compute Spearman scores on different datasets"
   ]
  },
  {
   "cell_type": "code",
   "execution_count": 16,
   "metadata": {},
   "outputs": [],
   "source": [
    "results = pd.DataFrame(index=datasets, columns=['# word pairs', '# recognized pairs', 'Spearman Correlation'])"
   ]
  },
  {
   "cell_type": "code",
   "execution_count": 17,
   "metadata": {},
   "outputs": [
    {
     "name": "stdout",
     "output_type": "stream",
     "text": [
      "Dataset: RG-65\n",
      "Dataset: WS-353\n",
      "Dataset: MC-30\n",
      "Dataset: Rare-Word\n",
      "Dataset: MEN\n",
      "Dataset: MTurk-287\n",
      "Dataset: SimLex-999\n"
     ]
    }
   ],
   "source": [
    "for wp, sims, name in zip(word_pairs, similarities, datasets):\n",
    "    print(\"Dataset: {}\".format(name))\n",
    "    n_wps = len(wp)\n",
    "    recognized = [[vocab2id.get(w1), vocab2id.get(w2), sim] for (w1, w2), sim in zip(wp, sims)]\n",
    "    recognized = [[w1, w2, sim] for w1, w2, sim in recognized if w1 is not None and w2 is not None]\n",
    "    n_recognized = len(recognized)\n",
    "    recog_wp = np.array([[w1, w2] for w1, w2, _ in recognized])\n",
    "    true_sim = np.array([sim for _, _, sim in recognized])\n",
    "    pred_sim = predict_kl(recog_wp, embeddings, dim=embed_dim)\n",
    "    score = spearman_rank_correlation(true_sim, pred_sim)\n",
    "    results.loc[name, :] = [n_wps, n_recognized, score]"
   ]
  },
  {
   "cell_type": "code",
   "execution_count": 18,
   "metadata": {
    "scrolled": false
   },
   "outputs": [
    {
     "data": {
      "text/html": [
       "<div>\n",
       "<style scoped>\n",
       "    .dataframe tbody tr th:only-of-type {\n",
       "        vertical-align: middle;\n",
       "    }\n",
       "\n",
       "    .dataframe tbody tr th {\n",
       "        vertical-align: top;\n",
       "    }\n",
       "\n",
       "    .dataframe thead th {\n",
       "        text-align: right;\n",
       "    }\n",
       "</style>\n",
       "<table border=\"1\" class=\"dataframe\">\n",
       "  <thead>\n",
       "    <tr style=\"text-align: right;\">\n",
       "      <th></th>\n",
       "      <th># word pairs</th>\n",
       "      <th># recognized pairs</th>\n",
       "      <th>Spearman Correlation</th>\n",
       "    </tr>\n",
       "  </thead>\n",
       "  <tbody>\n",
       "    <tr>\n",
       "      <th>RG-65</th>\n",
       "      <td>65</td>\n",
       "      <td>16</td>\n",
       "      <td>0.126471</td>\n",
       "    </tr>\n",
       "    <tr>\n",
       "      <th>WS-353</th>\n",
       "      <td>353</td>\n",
       "      <td>225</td>\n",
       "      <td>0.0970196</td>\n",
       "    </tr>\n",
       "    <tr>\n",
       "      <th>MC-30</th>\n",
       "      <td>30</td>\n",
       "      <td>11</td>\n",
       "      <td>0.309091</td>\n",
       "    </tr>\n",
       "    <tr>\n",
       "      <th>Rare-Word</th>\n",
       "      <td>2034</td>\n",
       "      <td>72</td>\n",
       "      <td>-0.127886</td>\n",
       "    </tr>\n",
       "    <tr>\n",
       "      <th>MEN</th>\n",
       "      <td>3000</td>\n",
       "      <td>1144</td>\n",
       "      <td>0.0379169</td>\n",
       "    </tr>\n",
       "    <tr>\n",
       "      <th>MTurk-287</th>\n",
       "      <td>287</td>\n",
       "      <td>103</td>\n",
       "      <td>0.0742213</td>\n",
       "    </tr>\n",
       "    <tr>\n",
       "      <th>SimLex-999</th>\n",
       "      <td>999</td>\n",
       "      <td>478</td>\n",
       "      <td>0.060071</td>\n",
       "    </tr>\n",
       "  </tbody>\n",
       "</table>\n",
       "</div>"
      ],
      "text/plain": [
       "           # word pairs # recognized pairs Spearman Correlation\n",
       "RG-65                65                 16             0.126471\n",
       "WS-353              353                225            0.0970196\n",
       "MC-30                30                 11             0.309091\n",
       "Rare-Word          2034                 72            -0.127886\n",
       "MEN                3000               1144            0.0379169\n",
       "MTurk-287           287                103            0.0742213\n",
       "SimLex-999          999                478             0.060071"
      ]
     },
     "execution_count": 18,
     "metadata": {},
     "output_type": "execute_result"
    }
   ],
   "source": [
    "results"
   ]
  },
  {
   "cell_type": "markdown",
   "metadata": {},
   "source": [
    "## KL-64"
   ]
  },
  {
   "cell_type": "markdown",
   "metadata": {},
   "source": [
    "load trained embedding"
   ]
  },
  {
   "cell_type": "code",
   "execution_count": 19,
   "metadata": {},
   "outputs": [],
   "source": [
    "embeddings = np.load('./results/WikiSmall_KL_64_batch.npz')['embeddings']\n",
    "embed_dim = 64"
   ]
  },
  {
   "cell_type": "markdown",
   "metadata": {},
   "source": [
    "compute Spearman scores on different datasets"
   ]
  },
  {
   "cell_type": "code",
   "execution_count": 20,
   "metadata": {},
   "outputs": [],
   "source": [
    "results = pd.DataFrame(index=datasets, columns=['# word pairs', '# recognized pairs', 'Spearman Correlation'])"
   ]
  },
  {
   "cell_type": "code",
   "execution_count": 21,
   "metadata": {},
   "outputs": [
    {
     "name": "stdout",
     "output_type": "stream",
     "text": [
      "Dataset: RG-65\n",
      "Dataset: WS-353\n",
      "Dataset: MC-30\n",
      "Dataset: Rare-Word\n",
      "Dataset: MEN\n",
      "Dataset: MTurk-287\n",
      "Dataset: SimLex-999\n"
     ]
    }
   ],
   "source": [
    "for wp, sims, name in zip(word_pairs, similarities, datasets):\n",
    "    print(\"Dataset: {}\".format(name))\n",
    "    n_wps = len(wp)\n",
    "    recognized = [[vocab2id.get(w1), vocab2id.get(w2), sim] for (w1, w2), sim in zip(wp, sims)]\n",
    "    recognized = [[w1, w2, sim] for w1, w2, sim in recognized if w1 is not None and w2 is not None]\n",
    "    n_recognized = len(recognized)\n",
    "    recog_wp = np.array([[w1, w2] for w1, w2, _ in recognized])\n",
    "    true_sim = np.array([sim for _, _, sim in recognized])\n",
    "    pred_sim = predict_kl(recog_wp, embeddings, dim=embed_dim)\n",
    "    score = spearman_rank_correlation(true_sim, pred_sim)\n",
    "    results.loc[name, :] = [n_wps, n_recognized, score]"
   ]
  },
  {
   "cell_type": "code",
   "execution_count": 22,
   "metadata": {
    "scrolled": false
   },
   "outputs": [
    {
     "data": {
      "text/html": [
       "<div>\n",
       "<style scoped>\n",
       "    .dataframe tbody tr th:only-of-type {\n",
       "        vertical-align: middle;\n",
       "    }\n",
       "\n",
       "    .dataframe tbody tr th {\n",
       "        vertical-align: top;\n",
       "    }\n",
       "\n",
       "    .dataframe thead th {\n",
       "        text-align: right;\n",
       "    }\n",
       "</style>\n",
       "<table border=\"1\" class=\"dataframe\">\n",
       "  <thead>\n",
       "    <tr style=\"text-align: right;\">\n",
       "      <th></th>\n",
       "      <th># word pairs</th>\n",
       "      <th># recognized pairs</th>\n",
       "      <th>Spearman Correlation</th>\n",
       "    </tr>\n",
       "  </thead>\n",
       "  <tbody>\n",
       "    <tr>\n",
       "      <th>RG-65</th>\n",
       "      <td>65</td>\n",
       "      <td>16</td>\n",
       "      <td>0.332353</td>\n",
       "    </tr>\n",
       "    <tr>\n",
       "      <th>WS-353</th>\n",
       "      <td>353</td>\n",
       "      <td>225</td>\n",
       "      <td>0.301951</td>\n",
       "    </tr>\n",
       "    <tr>\n",
       "      <th>MC-30</th>\n",
       "      <td>30</td>\n",
       "      <td>11</td>\n",
       "      <td>0.272727</td>\n",
       "    </tr>\n",
       "    <tr>\n",
       "      <th>Rare-Word</th>\n",
       "      <td>2034</td>\n",
       "      <td>72</td>\n",
       "      <td>0.17104</td>\n",
       "    </tr>\n",
       "    <tr>\n",
       "      <th>MEN</th>\n",
       "      <td>3000</td>\n",
       "      <td>1144</td>\n",
       "      <td>0.341648</td>\n",
       "    </tr>\n",
       "    <tr>\n",
       "      <th>MTurk-287</th>\n",
       "      <td>287</td>\n",
       "      <td>103</td>\n",
       "      <td>0.338653</td>\n",
       "    </tr>\n",
       "    <tr>\n",
       "      <th>SimLex-999</th>\n",
       "      <td>999</td>\n",
       "      <td>478</td>\n",
       "      <td>0.13397</td>\n",
       "    </tr>\n",
       "  </tbody>\n",
       "</table>\n",
       "</div>"
      ],
      "text/plain": [
       "           # word pairs # recognized pairs Spearman Correlation\n",
       "RG-65                65                 16             0.332353\n",
       "WS-353              353                225             0.301951\n",
       "MC-30                30                 11             0.272727\n",
       "Rare-Word          2034                 72              0.17104\n",
       "MEN                3000               1144             0.341648\n",
       "MTurk-287           287                103             0.338653\n",
       "SimLex-999          999                478              0.13397"
      ]
     },
     "execution_count": 22,
     "metadata": {},
     "output_type": "execute_result"
    }
   ],
   "source": [
    "results"
   ]
  },
  {
   "cell_type": "markdown",
   "metadata": {},
   "source": [
    "## KL-300"
   ]
  },
  {
   "cell_type": "markdown",
   "metadata": {},
   "source": [
    "load trained embedding"
   ]
  },
  {
   "cell_type": "code",
   "execution_count": 23,
   "metadata": {},
   "outputs": [],
   "source": [
    "embeddings = np.load('./results/WikiSmall_KL_300_batch.npz')['embeddings']\n",
    "embed_dim = 300"
   ]
  },
  {
   "cell_type": "markdown",
   "metadata": {},
   "source": [
    "compute Spearman scores on different datasets"
   ]
  },
  {
   "cell_type": "code",
   "execution_count": 24,
   "metadata": {},
   "outputs": [],
   "source": [
    "results = pd.DataFrame(index=datasets, columns=['# word pairs', '# recognized pairs', 'Spearman Correlation'])"
   ]
  },
  {
   "cell_type": "code",
   "execution_count": 25,
   "metadata": {},
   "outputs": [
    {
     "name": "stdout",
     "output_type": "stream",
     "text": [
      "Dataset: RG-65\n",
      "Dataset: WS-353\n",
      "Dataset: MC-30\n",
      "Dataset: Rare-Word\n",
      "Dataset: MEN\n",
      "Dataset: MTurk-287\n",
      "Dataset: SimLex-999\n"
     ]
    }
   ],
   "source": [
    "for wp, sims, name in zip(word_pairs, similarities, datasets):\n",
    "    print(\"Dataset: {}\".format(name))\n",
    "    n_wps = len(wp)\n",
    "    recognized = [[vocab2id.get(w1), vocab2id.get(w2), sim] for (w1, w2), sim in zip(wp, sims)]\n",
    "    recognized = [[w1, w2, sim] for w1, w2, sim in recognized if w1 is not None and w2 is not None]\n",
    "    n_recognized = len(recognized)\n",
    "    recog_wp = np.array([[w1, w2] for w1, w2, _ in recognized])\n",
    "    true_sim = np.array([sim for _, _, sim in recognized])\n",
    "    pred_sim = predict_kl(recog_wp, embeddings, dim=embed_dim)\n",
    "    score = spearman_rank_correlation(true_sim, pred_sim)\n",
    "    results.loc[name, :] = [n_wps, n_recognized, score]"
   ]
  },
  {
   "cell_type": "code",
   "execution_count": 26,
   "metadata": {
    "scrolled": true
   },
   "outputs": [
    {
     "data": {
      "text/html": [
       "<div>\n",
       "<style scoped>\n",
       "    .dataframe tbody tr th:only-of-type {\n",
       "        vertical-align: middle;\n",
       "    }\n",
       "\n",
       "    .dataframe tbody tr th {\n",
       "        vertical-align: top;\n",
       "    }\n",
       "\n",
       "    .dataframe thead th {\n",
       "        text-align: right;\n",
       "    }\n",
       "</style>\n",
       "<table border=\"1\" class=\"dataframe\">\n",
       "  <thead>\n",
       "    <tr style=\"text-align: right;\">\n",
       "      <th></th>\n",
       "      <th># word pairs</th>\n",
       "      <th># recognized pairs</th>\n",
       "      <th>Spearman Correlation</th>\n",
       "    </tr>\n",
       "  </thead>\n",
       "  <tbody>\n",
       "    <tr>\n",
       "      <th>RG-65</th>\n",
       "      <td>65</td>\n",
       "      <td>16</td>\n",
       "      <td>0.679412</td>\n",
       "    </tr>\n",
       "    <tr>\n",
       "      <th>WS-353</th>\n",
       "      <td>353</td>\n",
       "      <td>225</td>\n",
       "      <td>0.387135</td>\n",
       "    </tr>\n",
       "    <tr>\n",
       "      <th>MC-30</th>\n",
       "      <td>30</td>\n",
       "      <td>11</td>\n",
       "      <td>0.745455</td>\n",
       "    </tr>\n",
       "    <tr>\n",
       "      <th>Rare-Word</th>\n",
       "      <td>2034</td>\n",
       "      <td>72</td>\n",
       "      <td>0.311692</td>\n",
       "    </tr>\n",
       "    <tr>\n",
       "      <th>MEN</th>\n",
       "      <td>3000</td>\n",
       "      <td>1144</td>\n",
       "      <td>0.314799</td>\n",
       "    </tr>\n",
       "    <tr>\n",
       "      <th>MTurk-287</th>\n",
       "      <td>287</td>\n",
       "      <td>103</td>\n",
       "      <td>0.257765</td>\n",
       "    </tr>\n",
       "    <tr>\n",
       "      <th>SimLex-999</th>\n",
       "      <td>999</td>\n",
       "      <td>478</td>\n",
       "      <td>0.0680412</td>\n",
       "    </tr>\n",
       "  </tbody>\n",
       "</table>\n",
       "</div>"
      ],
      "text/plain": [
       "           # word pairs # recognized pairs Spearman Correlation\n",
       "RG-65                65                 16             0.679412\n",
       "WS-353              353                225             0.387135\n",
       "MC-30                30                 11             0.745455\n",
       "Rare-Word          2034                 72             0.311692\n",
       "MEN                3000               1144             0.314799\n",
       "MTurk-287           287                103             0.257765\n",
       "SimLex-999          999                478            0.0680412"
      ]
     },
     "execution_count": 26,
     "metadata": {},
     "output_type": "execute_result"
    }
   ],
   "source": [
    "results"
   ]
  },
  {
   "cell_type": "markdown",
   "metadata": {},
   "source": [
    "# Visualizaion of Wasserstein `word2cloud`"
   ]
  },
  {
   "cell_type": "code",
   "execution_count": 27,
   "metadata": {},
   "outputs": [],
   "source": [
    "import matplotlib.pyplot as plt\n",
    "import seaborn as sns\n",
    "\n",
    "%matplotlib inline"
   ]
  },
  {
   "cell_type": "code",
   "execution_count": 28,
   "metadata": {},
   "outputs": [],
   "source": [
    "embeddings = np.load('./results/WikiSmall_WassR2_32_batch.npz')['embeddings']"
   ]
  },
  {
   "cell_type": "code",
   "execution_count": 29,
   "metadata": {},
   "outputs": [
    {
     "data": {
      "text/plain": [
       "<matplotlib.legend.Legend at 0x7fd9ba80b710>"
      ]
     },
     "execution_count": 29,
     "metadata": {},
     "output_type": "execute_result"
    },
    {
     "data": {
      "image/png": "[encoded data removed]",
      "text/plain": [
       "<Figure size 576x432 with 1 Axes>"
      ]
     },
     "metadata": {},
     "output_type": "display_data"
    }
   ],
   "source": [
    "word1 = \"two\"\n",
    "wid1 = vocab2id[word1]\n",
    "embedding1 = embeddings[wid1]\n",
    "embedding1 = np.reshape(embedding1, (-1, 2))\n",
    "\n",
    "word2 = \"three\"\n",
    "wid2 = vocab2id[word2]\n",
    "embedding2 = embeddings[wid2]\n",
    "embedding2 = np.reshape(embedding2, (-1, 2))\n",
    "\n",
    "word3 = \"France\"\n",
    "wid3 = vocab2id[word3]\n",
    "embedding3 = embeddings[wid3]\n",
    "embedding3 = np.reshape(embedding3, (-1, 2))\n",
    "\n",
    "fig, ax = plt.subplots(figsize=(8, 6))\n",
    "ax = sns.kdeplot(embedding1[:, 0], embedding1[:, 1], cmap=\"Reds\", shade=True, shade_lowest=False, alpha=0.5, label=word1, color='red')\n",
    "ax = sns.kdeplot(embedding2[:, 0], embedding2[:, 1], cmap=\"Greens\", shade=True, shade_lowest=False, alpha=0.5, label=word2, color='green')\n",
    "ax = sns.kdeplot(embedding3[:, 0], embedding3[:, 1], cmap=\"Greys\", shade=True, shade_lowest=False, alpha=0.3, label=word3, color='grey')\n",
    "ax.get_xaxis().set_ticks([])\n",
    "ax.get_yaxis().set_ticks([])\n",
    "ax.legend()"
   ]
  },
  {
   "cell_type": "code",
   "execution_count": 30,
   "metadata": {},
   "outputs": [
    {
     "data": {
      "text/plain": [
       "<matplotlib.legend.Legend at 0x7fd9ba7eda90>"
      ]
     },
     "execution_count": 30,
     "metadata": {},
     "output_type": "execute_result"
    },
    {
     "data": {
      "image/png": "[encoded data removed]",
      "text/plain": [
       "<Figure size 576x432 with 1 Axes>"
      ]
     },
     "metadata": {},
     "output_type": "display_data"
    }
   ],
   "source": [
    "word1 = \"music\"\n",
    "wid1 = vocab2id[word1]\n",
    "embedding1 = embeddings[wid1]\n",
    "embedding1 = np.reshape(embedding1, (-1, 2))\n",
    "\n",
    "word2 = \"dance\"\n",
    "wid2 = vocab2id[word2]\n",
    "embedding2 = embeddings[wid2]\n",
    "embedding2 = np.reshape(embedding2, (-1, 2))\n",
    "\n",
    "word3 = \"he\"\n",
    "wid3 = vocab2id[word3]\n",
    "embedding3 = embeddings[wid3]\n",
    "embedding3 = np.reshape(embedding3, (-1, 2))\n",
    "\n",
    "fig, ax = plt.subplots(figsize=(8, 6))\n",
    "ax = sns.kdeplot(embedding1[:, 0], embedding1[:, 1], cmap=\"Reds\", shade=True, shade_lowest=False, alpha=0.5, label=word1, color='red')\n",
    "ax = sns.kdeplot(embedding2[:, 0], embedding2[:, 1], cmap=\"Greens\", shade=True, shade_lowest=False, alpha=0.5, label=word2, color='green')\n",
    "ax = sns.kdeplot(embedding3[:, 0], embedding3[:, 1], cmap=\"Greys\", shade=True, shade_lowest=False, alpha=0.3, label=word3, color='grey')\n",
    "ax.get_xaxis().set_ticks([])\n",
    "ax.get_yaxis().set_ticks([])\n",
    "ax.legend()"
   ]
  },
  {
   "cell_type": "code",
   "execution_count": 31,
   "metadata": {},
   "outputs": [
    {
     "data": {
      "text/plain": [
       "<matplotlib.legend.Legend at 0x7fd9ba772d68>"
      ]
     },
     "execution_count": 31,
     "metadata": {},
     "output_type": "execute_result"
    },
    {
     "data": {
      "image/png": "[encoded data removed]",
      "text/plain": [
       "<Figure size 576x432 with 1 Axes>"
      ]
     },
     "metadata": {},
     "output_type": "display_data"
    }
   ],
   "source": [
    "word1 = \"he\"\n",
    "wid1 = vocab2id[word1]\n",
    "embedding1 = embeddings[wid1]\n",
    "embedding1 = np.reshape(embedding1, (-1, 2))\n",
    "\n",
    "word2 = \"she\"\n",
    "wid2 = vocab2id[word2]\n",
    "embedding2 = embeddings[wid2]\n",
    "embedding2 = np.reshape(embedding2, (-1, 2))\n",
    "\n",
    "word3 = \"see\"\n",
    "wid3 = vocab2id[word3]\n",
    "embedding3 = embeddings[wid3]\n",
    "embedding3 = np.reshape(embedding3, (-1, 2))\n",
    "\n",
    "fig, ax = plt.subplots(figsize=(8, 6))\n",
    "ax = sns.kdeplot(embedding1[:, 0], embedding1[:, 1], cmap=\"Reds\", shade=True, shade_lowest=False, alpha=0.5, label=word1, color='red')\n",
    "ax = sns.kdeplot(embedding2[:, 0], embedding2[:, 1], cmap=\"Greens\", shade=True, shade_lowest=False, alpha=0.5, label=word2, color='green')\n",
    "ax = sns.kdeplot(embedding3[:, 0], embedding3[:, 1], cmap=\"Greys\", shade=True, shade_lowest=False, alpha=0.3, label=word3, color='grey')\n",
    "ax.get_xaxis().set_ticks([])\n",
    "ax.get_yaxis().set_ticks([])\n",
    "ax.legend()"
   ]
  },
  {
   "cell_type": "code",
   "execution_count": 32,
   "metadata": {},
   "outputs": [
    {
     "data": {
      "text/plain": [
       "<matplotlib.legend.Legend at 0x7fd9ba6942e8>"
      ]
     },
     "execution_count": 32,
     "metadata": {},
     "output_type": "execute_result"
    },
    {
     "data": {
      "image/png": "[encoded data removed]",
      "text/plain": [
       "<Figure size 576x432 with 1 Axes>"
      ]
     },
     "metadata": {},
     "output_type": "display_data"
    }
   ],
   "source": [
    "word1 = \"war\"\n",
    "wid1 = vocab2id[word1]\n",
    "embedding1 = embeddings[wid1]\n",
    "embedding1 = np.reshape(embedding1, (-1, 2))\n",
    "\n",
    "word2 = \"army\"\n",
    "wid2 = vocab2id[word2]\n",
    "embedding2 = embeddings[wid2]\n",
    "embedding2 = np.reshape(embedding2, (-1, 2))\n",
    "\n",
    "word3 = \"dog\"\n",
    "wid3 = vocab2id[word3]\n",
    "embedding3 = embeddings[wid3]\n",
    "embedding3 = np.reshape(embedding3, (-1, 2))\n",
    "\n",
    "fig, ax = plt.subplots(figsize=(8, 6))\n",
    "ax = sns.kdeplot(embedding1[:, 0], embedding1[:, 1], cmap=\"Reds\", shade=True, shade_lowest=False, alpha=0.5, label=word1, color='red')\n",
    "ax = sns.kdeplot(embedding2[:, 0], embedding2[:, 1], cmap=\"Greens\", shade=True, shade_lowest=False, alpha=0.5, label=word2, color='green')\n",
    "ax = sns.kdeplot(embedding3[:, 0], embedding3[:, 1], cmap=\"Greys\", shade=True, shade_lowest=False, alpha=0.3, label=word3, color='grey')\n",
    "ax.get_xaxis().set_ticks([])\n",
    "ax.get_yaxis().set_ticks([])\n",
    "ax.legend()"
   ]
  },
  {
   "cell_type": "code",
   "execution_count": null,
   "metadata": {},
   "outputs": [],
   "source": []
  }
 ],
 "metadata": {
  "kernelspec": {
   "display_name": "Python 3",
   "language": "python",
   "name": "python3"
  },
  "language_info": {
   "codemirror_mode": {
    "name": "ipython",
    "version": 3
   },
   "file_extension": ".py",
   "mimetype": "text/x-python",
   "name": "python",
   "nbconvert_exporter": "python",
   "pygments_lexer": "ipython3",
   "version": "3.6.8"
  },
  "toc": {
   "base_numbering": 1,
   "nav_menu": {},
   "number_sections": true,
   "sideBar": true,
   "skip_h1_title": false,
   "title_cell": "Table of Contents",
   "title_sidebar": "Contents",
   "toc_cell": false,
   "toc_position": {
    "height": "calc(100% - 180px)",
    "left": "10px",
    "top": "150px",
    "width": "384px"
   },
   "toc_section_display": true,
   "toc_window_display": true
  }
 },
 "nbformat": 4,
 "nbformat_minor": 2
}
